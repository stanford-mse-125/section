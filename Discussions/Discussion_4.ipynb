{
 "cells": [
  {
   "cell_type": "markdown",
   "metadata": {},
   "source": [
    "# Discussion 4: Hypothesis Testing with M&M's"
   ]
  },
  {
   "attachments": {},
   "cell_type": "markdown",
   "metadata": {},
   "source": [
    "<img src=\"https://raw.githubusercontent.com/stanford-mse-125/section/main/Discussions/img/mm.jpg\" alt= “m&ms” width=\"100\" /> <img src=\"https://raw.githubusercontent.com/stanford-mse-125/section/main/Discussions/img/mm.jpg\" alt= “m&ms” width=\"100\" /> <img src=\"https://raw.githubusercontent.com/stanford-mse-125/section/main/Discussions/img/mm.jpg\" alt= “m&ms” width=\"100\" /> <img src=\"https://raw.githubusercontent.com/stanford-mse-125/section/main/Discussions/img/mm.jpg\" alt= “m&ms” width=\"100\" /> <img src=\"https://raw.githubusercontent.com/stanford-mse-125/section/main/Discussions/img/mm.jpg\" alt= “m&ms” width=\"100\" /> <img src=\"https://raw.githubusercontent.com/stanford-mse-125/section/main/Discussions/img/mm.jpg\" alt= “m&ms” width=\"100\" />"
   ]
  },
  {
   "cell_type": "markdown",
   "metadata": {},
   "source": [
    "Last week during Discussion, we worked through some of the principles of statistical inference using M&Ms. We will continue working with this data this week, this time focusing on Hypothesis Testing."
   ]
  },
  {
   "cell_type": "code",
   "execution_count": 2,
   "metadata": {},
   "outputs": [],
   "source": [
    "import numpy as np\n",
    "import pandas as pd\n",
    "import matplotlib.pyplot as plt\n",
    "import seaborn as sns\n",
    "sns.set_theme()\n",
    "from scipy import stats"
   ]
  },
  {
   "attachments": {},
   "cell_type": "markdown",
   "metadata": {},
   "source": [
    "## Refresher: Statistical Inference\n",
    "\n",
    "The core principle of statistical inference is reasoning about things that we don't know using data. Last week, we focused on two concepts:\n",
    "\n",
    "- **Estimation**: using observed data to generate a point estimate, or single best guess, of some population statistic. For example, in the M&Ms example from last week, we wanted to estimate the population proportion of M&Ms that are blue, and our point estimate was the proportion of M&Ms that were blue in the observed data, i.e. a single bag.\n",
    " \n",
    "- **Confidence intervals**: intervals around the point estimate to represent the uncertainty of the estimate in the sampling distribution."
   ]
  },
  {
   "cell_type": "markdown",
   "metadata": {},
   "source": [
    "**Exercise**: Explain in your own words the concept of a sampling distribution, and why it is important.\n",
    "\n",
    "**Exercise**: What does the sampling distribution represent in the context of the M&Ms problem from Discussion 3?"
   ]
  },
  {
   "attachments": {},
   "cell_type": "markdown",
   "metadata": {},
   "source": [
    "## Hypothesis Testing\n",
    "\n",
    "Confidence intervals are a great tool for analytically and visually understanding the uncertainty in point estimates. However, sometimes we want to go a step further. Sometimes, we want to be able to conclude whether or not the population statistic is significantly different from some hypothesized value. Hypothesis testing is the framework that formally allows us to make such conclusions.\n",
    "\n",
    "#### Jury Example\n",
    "\n",
    "To motivate why we might be interested in hypothesis testing, consider the Jury selection example from the [testing lecture demo](https://github.com/stanford-mse-125/demos/blob/main/testing.ipynb). In this example, we have observed data that says that out of a panel of 100 people, only 8 were Black. For this data, we could estimate the sampling distribution and subsequently generate a confidence interval for the true percent of Black people that are selected for jury duty in this county. However, without additional context, a confidence interval for this proportion itself does not lead to any natural conclusion about whether or not the jury selection process was biased. \n",
    "\n",
    "Instead, we first formulate an initial hypothesis: the jury selection is racially unbiased. If this was the case, then the percent of Black people selected for jury duty would match the percent of Black people overall in the county, which is 26%. We can now use the tools of hypothesis testing to formally test whether or not this initial hypothesis is supported by the data that we have available. \n",
    "\n",
    "#### Hypothesis Testing Summary\n",
    "\n",
    "Hypothesis testing can be summarized in the following steps:\n",
    "\n",
    "1) Formulate a null and alternative hypothesis, and a significance level $\\alpha$.\n",
    "2) Estimate the sampling distribution *assuming the null hypothesis is true*\n",
    "3) Compute a p-value using the estimated null sampling distribution and the observed point estimate.\n",
    "4) Make a conclusion for the test based on the p-value."
   ]
  },
  {
   "attachments": {},
   "cell_type": "markdown",
   "metadata": {},
   "source": [
    "### Null and Alternative Hypothesis\n",
    "\n",
    "\n",
    "\n",
    "We start hypothesis testing by defining a *null* and *alternative* hypothesis. \n",
    "\n",
    "- The **null hypothesis** (often denoted $H_o$) is what we assume to be true during the testing procedure\n",
    "\n",
    "- the **alternative hypothesis** (often denoted $H_a$) is, as it sounds, the alternative to the null hypothesis\n",
    "\n",
    "In the jury selection example, the null hypothesis is that the jury selection is racially unbiased, while the alternative hypothesis is that the jury selection is racially biased. If we let $p$ represent the true population percent of Black people selected for jury duty in the county, then the hypotheses are:\n",
    "\n",
    "\\begin{align*}\n",
    "H_o: p = 0.26 \\qquad vs. \\qquad H_a: p \\neq 0.26\n",
    "\\end{align*}"
   ]
  },
  {
   "attachments": {},
   "cell_type": "markdown",
   "metadata": {},
   "source": [
    "#### One vs Two Sided Tests\n",
    "\n",
    "In this class, it will *always* be the case that the null hypothesis is a single equality in mathematical notation. The alternative hypothesis can be one of two different forms:\n",
    "\n",
    "- **One-Sided**: when the alternative hypothesis involves $<$ or $>$. For example, an alternative hypothesis like $H_a: p > 0.26$. \n",
    "\n",
    "- **Two-Sided**: when the alternative hypothesis involves a $\\neq$. This is the most common in practice.\n",
    "\n",
    "Choosing between a one-sided or two-sided alternative hypothesis will depend on the context of the problem, and this choice will effect how we end up computing p-values, as we will see later in this notebook."
   ]
  },
  {
   "attachments": {},
   "cell_type": "markdown",
   "metadata": {},
   "source": [
    "**Exercise**: Is the jury example from lecture a one-sided or two-sided test? Would it make sense for it to be the opposite?"
   ]
  },
  {
   "attachments": {},
   "cell_type": "markdown",
   "metadata": {},
   "source": [
    "### Significance Level\n",
    "\n",
    "We also need to define a significance level $\\alpha$. This is the probability that we make a false positive error that we are comfortable with in our test. In practice, we *almost always* use $\\alpha = 0.05$. There's really no good reason for this, other than that people have been doing this for a very long time and it's the standard. For example, [this article](https://www.nature.com/articles/s41562-017-0189-z) suggests that 0.005 may actually be a better value for $\\alpha$, but alas, $\\alpha=0.05$ is still the standard."
   ]
  },
  {
   "cell_type": "markdown",
   "metadata": {},
   "source": [
    "**Exercise**: Let's now formulate a hypothesis test for M&Ms. Let's say that your bag of M&Ms from Discussion 3 had 18 blue M&Ms out of 48 total M&Ms (feel free to use your actual data if you participated in class last week!). Since last week, you reached out to the director of operations at the M&M company to ask what the actual percent of M&Ms is in the M&M machine. They respond back and say that they don't know for sure, but they think the actual percent is 20%. Formulate the null and alternative hypothesis for a hypothesis test that tests this claim."
   ]
  },
  {
   "cell_type": "markdown",
   "metadata": {},
   "source": [
    "### Sampling Distribution Under the Null\n",
    "\n",
    "In discussion last week, we focused a lot on estimating the sampling distribution without making any assumptions about the true population statistic. In hypothesis testing, it is slightly different. We now have a null hypothesis, which tells us a hypothesized value for the true population statistic, and we want to estimate the sampling distribution *assuming the null hypothesis is true*. This is sometimes also called the null sampling distribution or the null distribution.\n",
    "\n",
    "How we actually go about estimating the sampling distribution under the null hypothesis depends on the type of hypothesis test. The [testing lecture](https://stanford-mse-125.github.io/website-2023/lectures/hypothesis.pdf) as well as the [testing demo](https://colab.research.google.com/github/stanford-mse-125/demos/blob/main/testing.ipynb) give a good overview of different strategies for different types of problems, and we will talk about these later in this notebook. "
   ]
  },
  {
   "cell_type": "markdown",
   "metadata": {},
   "source": [
    "**Exercise**: Let's work through estimating the null distribution for the M&Ms hypothesis test. Complete the code below to generate samples from the null distribution for this test. You can refer to the testing demo code for the jury selection example as a reference."
   ]
  },
  {
   "cell_type": "code",
   "execution_count": null,
   "metadata": {},
   "outputs": [],
   "source": [
    "np.random.seed(10)\n",
    "\n",
    "# Dataframe describing the data from the null hypothesis\n",
    "null_data = pd.DataFrame({\n",
    "    'color': [], # fill\n",
    "    'proportion': [] # fill\n",
    "})\n",
    "\n",
    "B = 10000\n",
    "null_estimates = np.zeros(B)\n",
    "for i in range(B):\n",
    "    # Generate samples from the null distribution in null_data\n",
    "    sample = null_data.sample(...) # fill\n",
    "\n",
    "    # Generate a point estimate from the above sample\n",
    "    try:\n",
    "        estimate = ... # fill\n",
    "    except:\n",
    "        estimate = 0\n",
    "\n",
    "    null_estimates[i] = estimate\n",
    "\n",
    "# Plot a histogram of the null distribution samples\n",
    "sns.histplot(x=null_estimates, bins=19)"
   ]
  },
  {
   "attachments": {},
   "cell_type": "markdown",
   "metadata": {},
   "source": [
    "### Hypothesis Test Conclusions\n",
    "\n",
    "After performing a hypothesis test, one of two conclusions is made:\n",
    "- **Rejecting the null**: when there is enough evidence to reject the null hypothesis in favor of the alternative hypothesis. \n",
    "- **Failing to reject the null**: when there is *not* enough evidence to reject the null hypothesis in favor of the alternative hypothesis\n",
    "\n",
    "#### Accepting the Null\n",
    "\n",
    "It's very important to remember that **accepting the null is never a valid conclusion** from a hypothesis test. Why? We assumed that the null hypothesis was true when performing the hypothesis test. The best way to think about this is to think about the US legal system: during a trial, the accused person is always *innocent until proven guilty*. That is, we assume that the defendent is innocent, and only conclude that they are guilty if there is enough evidence to make such a conclusion. Further, if there is not enough evidence to prove guilt, we do not conclude that the defendent is innocent, but instead conclude that the defendent is *not guilty*. It's a very subtle but important difference to keep in mind. "
   ]
  },
  {
   "cell_type": "markdown",
   "metadata": {},
   "source": [
    "**Exercise**: Review the jury selection code from the [testing demo](https://colab.research.google.com/github/stanford-mse-125/demos/blob/main/testing.ipynb) from lecture. What would it mean to reject the null hypothesis in this case? What would it mean to fail to reject the null hypothesis? Which of these conclusions is reached in this example?\n",
    "\n",
    "**Exercise**: Review the slides from the [testing slides](https://stanford-mse-125.github.io/website-2023/lectures/hypothesis.pdf) on false positives and false negatives. Describe what a false negative and a false positive would be in the context of a criminal trial as described above. Also, describe what a false negative and false positive would be in the context of the jury selection hypothesis test."
   ]
  },
  {
   "cell_type": "markdown",
   "metadata": {},
   "source": [
    "### p-values"
   ]
  },
  {
   "attachments": {},
   "cell_type": "markdown",
   "metadata": {},
   "source": [
    "Let's say we now have estimated the sampling distribution under the null distribution, now how do we make a conclusion about our test? The standard way to do this is to use a p-value. The p-value for a hypothesis test is the probability of getting a result at least as extreme as the point estimate from the observed data, assuming the null hypothesis. \n",
    "\n",
    "Here's one way to think about the concept of a p-value. How likely is it that, if we assume the null hypothesis, we will observe our point estimate by random chance? A low p-value tells us that the answer to this question is \"extremely unlikely\" - which gives us evidence to reject the null.\n",
    "\n",
    "We have to be a little bit careful, though, because generating a p-value is slightly different depending on if we use a one-sided or a two-sided hypothesis test. Consider the plot below:"
   ]
  },
  {
   "cell_type": "code",
   "execution_count": 77,
   "metadata": {},
   "outputs": [
    {
     "data": {
      "text/plain": [
       "Text(0.5, 1.0, 'Two Sided P-Value')"
      ]
     },
     "execution_count": 77,
     "metadata": {},
     "output_type": "execute_result"
    },
    {
     "data": {
      "image/png": "[encoded data removed]",
      "text/plain": [
       "<Figure size 1500x500 with 2 Axes>"
      ]
     },
     "metadata": {},
     "output_type": "display_data"
    }
   ],
   "source": [
    "# Generate some random data to simulate a sampling distribution\n",
    "x = np.linspace(-3, 3, 1000)\n",
    "density = stats.norm.pdf(x)\n",
    "\n",
    "# We'll say that the observed statistic is 2\n",
    "obs_stat = 1.5\n",
    "\n",
    "fig, axes = plt.subplots(1, 2, figsize=(15, 5))\n",
    "\n",
    "# Plot a one-sided p-value\n",
    "sns.lineplot(x=x, y=density, ax=axes[0])\n",
    "axes[0].fill_between(x[x > 1.5], density[x > 1.5], color='red', alpha=0.5)\n",
    "axes[0].set_title(\"One Sided P-Value\")\n",
    "\n",
    "# Plot a two-sided p-value\n",
    "sns.lineplot(x=x, y=density, ax=axes[1])\n",
    "axes[1].fill_between(x[x > 1.5], density[x > 1.5], color='green', alpha=0.5)\n",
    "axes[1].fill_between(x[x < -1.5], density[x < -1.5], color='green', alpha=0.5)\n",
    "axes[1].set_title(\"Two Sided P-Value\")\n"
   ]
  },
  {
   "attachments": {},
   "cell_type": "markdown",
   "metadata": {},
   "source": [
    "In this example, our observed statistic is 1.5. For the one-sided p-value, we only look at the area under the curve of the null distribution *to the right* of the observed statistic. For the two-sided p-value, however, we have to look at the area to the right of 1.5 *as well as* the area to the left of -1.5. When using a normal approximation, this results in the two-sided p-value always being exactly twice as large as the one-sided p-value (**Exercise**: why?).\n",
    "\n",
    "In code, this will look something like this:"
   ]
  },
  {
   "cell_type": "code",
   "execution_count": 3,
   "metadata": {},
   "outputs": [
    {
     "name": "stdout",
     "output_type": "stream",
     "text": [
      "One-sided p-value: 0.06680720126885809\n",
      "One-sided p-value: 0.13361440253771617\n"
     ]
    }
   ],
   "source": [
    "# Assuming that the null sampling distribution is just a standard normal\n",
    "# And the observed statistic is 1.5\n",
    "\n",
    "# one-sided p-value\n",
    "print(f\"One-sided p-value: {1 - stats.norm.cdf(1.5)}\")\n",
    "\n",
    "# two-sided p-value\n",
    "print(f\"One-sided p-value: {2 * (1 - stats.norm.cdf(1.5))}\")"
   ]
  },
  {
   "cell_type": "markdown",
   "metadata": {},
   "source": [
    "In general, the lower the p-value is, the more evidence we have in favor of the alternative. This is because the lower the p-value, the less likely it is that we will get the observed point estimate if the null were to be true, meaning the null is less likely to be true! In fact, the following rule exactly tells us how to test at a $\\alpha$ significance level from a p-value:\n",
    "\n",
    "- If the p-value is less than $\\alpha$, then we reject the null.\n",
    "- If the p-value is greater than $\\alpha$, then we fail to reject the null."
   ]
  },
  {
   "cell_type": "markdown",
   "metadata": {},
   "source": [
    "**Exercise**: Explain why the above rule makes sense, using what you know about p-values and significance rates $\\alpha$. "
   ]
  },
  {
   "attachments": {},
   "cell_type": "markdown",
   "metadata": {},
   "source": [
    "**Exercise**: Complete the below code to generate a p-value for the M&Ms hypothesis test. This p-value should be the p-value for a *two-sided test*, and so it should be calculated corresponding to the right subplot above."
   ]
  },
  {
   "cell_type": "code",
   "execution_count": null,
   "metadata": {},
   "outputs": [],
   "source": [
    "# p-value using empirical counts\n",
    "pval_count = ... # fill\n",
    "print(f\"Count-based p value: {np.round(pval_count, 4)}\")\n",
    "\n",
    "# p-value using normal approximation\n",
    "pval_norm_approx = ... # fill\n",
    "print(f\"Normal approximation p value: {np.round(pval_norm_approx, 4)}\")"
   ]
  },
  {
   "cell_type": "markdown",
   "metadata": {},
   "source": [
    "**Exercise**: Based on your p-value from the previous exercise (one of the two), should you reject the null hypothesis, or fail to reject the null hypothesis, using $\\alpha = 0.05$? Interpret the corresponding conclusion in the context of this problem. Does the result change depending on which p-value you use?"
   ]
  },
  {
   "cell_type": "markdown",
   "metadata": {},
   "source": [
    "## Comparing Two Means\n",
    "\n",
    "The hypothesis test that we just did for the M&M problem is usually called a *one sample proportions test*. Another very popular test is called a *two-sample t-test*, which is used to compare the mean of two different features. An example of a two-sample t-test is the deflategate example in the testing demo from lecture. Let's do another simple example of a two-sample t-test using the titanic data."
   ]
  },
  {
   "cell_type": "code",
   "execution_count": 32,
   "metadata": {},
   "outputs": [],
   "source": [
    "titanic_path = \"https://raw.githubusercontent.com/stanford-policylab/mse125/31b8b50be0eafcb4c48a1ce3ca732556429a0824/week_1/titanic.csv\"\n",
    "titanic_data = pd.read_csv(titanic_path)"
   ]
  },
  {
   "cell_type": "markdown",
   "metadata": {},
   "source": [
    "Let's do a test to compare the age of males and females onboard the titanic. Whenever we do a two-sample test, our null hypothesis will be that the population statistic in the two sample are equal, while the alternative hypothesis can be a one-sided or two-sided alternative as described before. In a two-sample t-test, the population statistic in the two samples is the mean, but we can compare any population statistic in the two samples! A two-sample test works in the following steps:\n",
    "\n",
    "1) Null hypothesis: assume that the population is the same for the two groups.\n",
    "2) Prepare data with one column for group identification and one group for the values.\n",
    "3) For each sampling trial, sample with replacement the values, but keep the group labels the same. Then, record the difference of the sample statistic for the two groups.\n",
    "4) Generate p-value using collection of sample differences as null distribution, and observed difference as the point estimate."
   ]
  },
  {
   "cell_type": "markdown",
   "metadata": {},
   "source": [
    "**Exercise**: Complete the below code to do a two-sample t-test on the titanic data comparing the average age of men and women."
   ]
  },
  {
   "cell_type": "code",
   "execution_count": null,
   "metadata": {},
   "outputs": [],
   "source": [
    "np.random.seed(10)\n",
    "\n",
    "B = 10000\n",
    "null_estimates = np.zeros(B)\n",
    "for i in range(B):\n",
    "\n",
    "    # Generate sample by sampling with replacement from the age column\n",
    "    # and leaving the sex column.\n",
    "    sample = pd.DataFrame({\n",
    "        'Sex': [], # fill\n",
    "        'Age': [], # fill\n",
    "    })\n",
    "\n",
    "    # Estimate the difference between average age of men and women in the sample\n",
    "    null_estimates[i] = ... # fill\n",
    "\n",
    "# Calculate the observed difference of means in the original data.\n",
    "obs_estimate = ... # fill\n",
    "\n",
    "# Calculate the p-value using normal approximation\n",
    "p_val = ... # fill\n",
    "print(f\"P value from normal approximation: {np.round(p_val, 4)}\")"
   ]
  },
  {
   "attachments": {},
   "cell_type": "markdown",
   "metadata": {},
   "source": [
    "## Hypothesis Testing Using Confidence Intervals\n",
    "\n",
    "Using p-values is the most common way that hypothesis testing is done in practice. However, another perfectly valid way to do hypothesis testing is to use confidence intervals. The process is actually pretty straightforward. As with the p-value method, we start by formulating a null and alternative hypothesis based on some hypothesized true value of the parameter of interest, and a significance level $\\alpha$. Then, we generate a $(1 - \\alpha)\\%$ confidence interval for the observed point estimate, and reject the null hypothesis if the hypothesized true value is not contained inside the confidence interval.\n",
    "\n",
    "The below code taken from Discussion 3 generates a confidence interval for the M&Ms data."
   ]
  },
  {
   "cell_type": "code",
   "execution_count": 40,
   "metadata": {},
   "outputs": [
    {
     "name": "stdout",
     "output_type": "stream",
     "text": [
      "[0.25       0.50052083]\n"
     ]
    }
   ],
   "source": [
    "synth_bags = np.random.binomial(n=48, p=18 / 48, size=1000)\n",
    "\n",
    "# get the proportion of each bag with blue M&M's\n",
    "synth_sampling_dist = synth_bags / 48\n",
    "\n",
    "# percentile method\n",
    "print(np.quantile(synth_sampling_dist, [0.025, 0.975]))"
   ]
  },
  {
   "cell_type": "markdown",
   "metadata": {},
   "source": [
    "In previous sections, we conducted a hypothesis test to see if the true proportion of blue M&Ms was equal to 0.20 using the p-value approach. Using the confidence interval approach, we can simply check whether or not 0.20 is included in the above confidence interval! In this case, 0.20 is not included in the interval, and so we would reject the null hypothesis. This aligns with the conclusion we got from the p-value approach. "
   ]
  },
  {
   "cell_type": "markdown",
   "metadata": {},
   "source": [
    "**Exercise**: What would have happened if we had a smaller bag of M&Ms? Use the same observed proportion, but reduce $n$ by 20 for whatever M&M data you are using. For example, if you are using the suggested 18 / 48 data, then use the same proportion but pretending that $n = 28$. Alter the code from the previous code cell to generate a new confidence interval with this smaller sample size, and see how that affects the results of your hypothesis test."
   ]
  }
 ],
 "metadata": {
  "kernelspec": {
   "display_name": "Python 3",
   "language": "python",
   "name": "python3"
  },
  "language_info": {
   "codemirror_mode": {
    "name": "ipython",
    "version": 3
   },
   "file_extension": ".py",
   "mimetype": "text/x-python",
   "name": "python",
   "nbconvert_exporter": "python",
   "pygments_lexer": "ipython3",
   "version": "3.11.2"
  }
 },
 "nbformat": 4,
 "nbformat_minor": 2
}

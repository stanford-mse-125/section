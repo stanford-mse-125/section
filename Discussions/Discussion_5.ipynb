{
 "cells": [
  {
   "cell_type": "markdown",
   "metadata": {
    "id": "FpzXX_L2nPfT"
   },
   "source": [
    "# Week 5 Discussion: Linear Regression"
   ]
  },
  {
   "cell_type": "code",
   "execution_count": 1,
   "metadata": {
    "id": "5lTUpNtxnPfV"
   },
   "outputs": [
    {
     "name": "stderr",
     "output_type": "stream",
     "text": [
      "/Users/samitakamath/opt/anaconda3/lib/python3.8/site-packages/statsmodels/tsa/base/tsa_model.py:7: FutureWarning: pandas.Int64Index is deprecated and will be removed from pandas in a future version. Use pandas.Index with the appropriate dtype instead.\n",
      "  from pandas import (to_datetime, Int64Index, DatetimeIndex, Period,\n",
      "/Users/samitakamath/opt/anaconda3/lib/python3.8/site-packages/statsmodels/tsa/base/tsa_model.py:7: FutureWarning: pandas.Float64Index is deprecated and will be removed from pandas in a future version. Use pandas.Index with the appropriate dtype instead.\n",
      "  from pandas import (to_datetime, Int64Index, DatetimeIndex, Period,\n"
     ]
    }
   ],
   "source": [
    "import numpy as np \n",
    "import pandas as pd\n",
    "import matplotlib.pyplot as plt\n",
    "import seaborn as sns\n",
    "import statsmodels.api as sm\n",
    "sns.set_style(\"darkgrid\")"
   ]
  },
  {
   "cell_type": "markdown",
   "metadata": {
    "id": "whLmh355nPfW"
   },
   "source": [
    "## Background\n",
    "\n",
    "In this discussion session, we, as a group of applied statisticians who are constantly thinking about real-world high-impact applications, are going to explore if we can predict the final exam scores using homework scores using a synthetic (but realistic enough) dataset."
   ]
  },
  {
   "cell_type": "markdown",
   "metadata": {
    "id": "lmQDIn1EnPfW"
   },
   "source": [
    "## Dataset\n",
    "\n",
    "The dataset contains scores of five homework assignments and a final exam \n",
    "for 100 (hypothetical) students who took a statistics class from \n",
    "last year.\n",
    "Even though it is early-ish in this quarter and we've only received feedback for the first 3 homeworks for this (hypothetical) class we are taking, we'd like to build a model to predict our final exam scores in this class using only the first few homework scores, so that we are able to forecast our (good) grades early, and enjoy peace of mind.\n",
    "\n",
    "Specifically, suppose we have observed our first 3 homework scores as 100, 85, and 95, can we predict our final exam scores?\n",
    "\n",
    "To answer this question, we will start by analyzing the data and fitting a simple regression model using only the score from hw1.\n",
    "Then we will fit another model using all 5 homework scores, and examine the model closely.\n",
    "\n",
    "First, let's load the data and plot hw1 scores and final exam scores as a scatterplot."
   ]
  },
  {
   "cell_type": "code",
   "execution_count": 2,
   "metadata": {
    "id": "AgXn4J2qnPfX"
   },
   "outputs": [
    {
     "data": {
      "text/html": [
       "<div>\n",
       "<style scoped>\n",
       "    .dataframe tbody tr th:only-of-type {\n",
       "        vertical-align: middle;\n",
       "    }\n",
       "\n",
       "    .dataframe tbody tr th {\n",
       "        vertical-align: top;\n",
       "    }\n",
       "\n",
       "    .dataframe thead th {\n",
       "        text-align: right;\n",
       "    }\n",
       "</style>\n",
       "<table border=\"1\" class=\"dataframe\">\n",
       "  <thead>\n",
       "    <tr style=\"text-align: right;\">\n",
       "      <th></th>\n",
       "      <th>hw1</th>\n",
       "      <th>hw2</th>\n",
       "      <th>hw3</th>\n",
       "      <th>hw4</th>\n",
       "      <th>hw5</th>\n",
       "      <th>final</th>\n",
       "    </tr>\n",
       "  </thead>\n",
       "  <tbody>\n",
       "    <tr>\n",
       "      <th>0</th>\n",
       "      <td>98</td>\n",
       "      <td>100</td>\n",
       "      <td>71</td>\n",
       "      <td>73</td>\n",
       "      <td>90</td>\n",
       "      <td>78</td>\n",
       "    </tr>\n",
       "    <tr>\n",
       "      <th>1</th>\n",
       "      <td>96</td>\n",
       "      <td>82</td>\n",
       "      <td>84</td>\n",
       "      <td>99</td>\n",
       "      <td>48</td>\n",
       "      <td>80</td>\n",
       "    </tr>\n",
       "    <tr>\n",
       "      <th>2</th>\n",
       "      <td>100</td>\n",
       "      <td>100</td>\n",
       "      <td>100</td>\n",
       "      <td>93</td>\n",
       "      <td>83</td>\n",
       "      <td>82</td>\n",
       "    </tr>\n",
       "    <tr>\n",
       "      <th>3</th>\n",
       "      <td>65</td>\n",
       "      <td>80</td>\n",
       "      <td>40</td>\n",
       "      <td>83</td>\n",
       "      <td>89</td>\n",
       "      <td>59</td>\n",
       "    </tr>\n",
       "    <tr>\n",
       "      <th>4</th>\n",
       "      <td>83</td>\n",
       "      <td>97</td>\n",
       "      <td>26</td>\n",
       "      <td>71</td>\n",
       "      <td>100</td>\n",
       "      <td>95</td>\n",
       "    </tr>\n",
       "    <tr>\n",
       "      <th>...</th>\n",
       "      <td>...</td>\n",
       "      <td>...</td>\n",
       "      <td>...</td>\n",
       "      <td>...</td>\n",
       "      <td>...</td>\n",
       "      <td>...</td>\n",
       "    </tr>\n",
       "    <tr>\n",
       "      <th>95</th>\n",
       "      <td>60</td>\n",
       "      <td>63</td>\n",
       "      <td>70</td>\n",
       "      <td>59</td>\n",
       "      <td>84</td>\n",
       "      <td>64</td>\n",
       "    </tr>\n",
       "    <tr>\n",
       "      <th>96</th>\n",
       "      <td>95</td>\n",
       "      <td>97</td>\n",
       "      <td>52</td>\n",
       "      <td>32</td>\n",
       "      <td>43</td>\n",
       "      <td>61</td>\n",
       "    </tr>\n",
       "    <tr>\n",
       "      <th>97</th>\n",
       "      <td>80</td>\n",
       "      <td>72</td>\n",
       "      <td>69</td>\n",
       "      <td>100</td>\n",
       "      <td>62</td>\n",
       "      <td>81</td>\n",
       "    </tr>\n",
       "    <tr>\n",
       "      <th>98</th>\n",
       "      <td>100</td>\n",
       "      <td>100</td>\n",
       "      <td>100</td>\n",
       "      <td>98</td>\n",
       "      <td>65</td>\n",
       "      <td>97</td>\n",
       "    </tr>\n",
       "    <tr>\n",
       "      <th>99</th>\n",
       "      <td>99</td>\n",
       "      <td>100</td>\n",
       "      <td>81</td>\n",
       "      <td>100</td>\n",
       "      <td>100</td>\n",
       "      <td>93</td>\n",
       "    </tr>\n",
       "  </tbody>\n",
       "</table>\n",
       "<p>100 rows × 6 columns</p>\n",
       "</div>"
      ],
      "text/plain": [
       "    hw1  hw2  hw3  hw4  hw5  final\n",
       "0    98  100   71   73   90     78\n",
       "1    96   82   84   99   48     80\n",
       "2   100  100  100   93   83     82\n",
       "3    65   80   40   83   89     59\n",
       "4    83   97   26   71  100     95\n",
       "..  ...  ...  ...  ...  ...    ...\n",
       "95   60   63   70   59   84     64\n",
       "96   95   97   52   32   43     61\n",
       "97   80   72   69  100   62     81\n",
       "98  100  100  100   98   65     97\n",
       "99   99  100   81  100  100     93\n",
       "\n",
       "[100 rows x 6 columns]"
      ]
     },
     "execution_count": 2,
     "metadata": {},
     "output_type": "execute_result"
    }
   ],
   "source": [
    "scores = pd.read_csv(\"https://raw.githubusercontent.com/stanford-policylab/mse125/main/week_5/scores.csv\")\n",
    "\n",
    "scores"
   ]
  },
  {
   "cell_type": "code",
   "execution_count": 3,
   "metadata": {},
   "outputs": [
    {
     "data": {
      "text/plain": [
       "<AxesSubplot:xlabel='hw1', ylabel='final'>"
      ]
     },
     "execution_count": 3,
     "metadata": {},
     "output_type": "execute_result"
    },
    {
     "data": {
      "image/png": "[encoded data removed]",
      "text/plain": [
       "<Figure size 432x288 with 1 Axes>"
      ]
     },
     "metadata": {},
     "output_type": "display_data"
    }
   ],
   "source": [
    "sns.scatterplot(data=scores, x=\"hw1\", y=\"final\")"
   ]
  },
  {
   "cell_type": "markdown",
   "metadata": {
    "id": "RuUa01HQnPfX"
   },
   "source": [
    "In the plot, it seems like there is a positive relationship between `hw1` \n",
    "and final exam scores. \n",
    "Now, we would like to quantitatively measure this (linear) relationship between\n",
    "the two variables."
   ]
  },
  {
   "cell_type": "markdown",
   "metadata": {
    "id": "QNAR9tcUnPfX"
   },
   "source": [
    "# Correlation\n",
    "\n",
    "To achieve this, we define the correlation coefficient $\\rho_{X,Y}$ between two random variable $X$ and $Y$ to be\n",
    "\n",
    "\\begin{align}\n",
    "\\rho_{X,Y} &= \\frac{\\mathrm{cov}(X, Y)}{\\sigma_X\\sigma_Y} \\\\ \n",
    "  & = \\mathbb{E} \\left[ \\frac{(X-\\mu_X)}{\\sigma_X} \n",
    "  \\frac{(Y-\\mu_Y)}{\\sigma_Y} \\right]\n",
    "\\end{align}\n",
    "\n",
    "In other words, the definition above shows that we can think of the correlation as the covariance of $X$ and $Y$\n",
    "scaled by the individual variance of $X$ and $Y$.\n",
    "\n",
    "The correlation coefficient ranges from -1 to +1, where -1 indicates a perfect\n",
    "downhill (negative) linear relationship and +1 indicates a perfect uphill\n",
    "(positive) linear relationship.\n"
   ]
  },
  {
   "cell_type": "markdown",
   "metadata": {
    "id": "H6wTXgkinPfX"
   },
   "source": [
    "To illustrate this, the following plot shows how different values of correlation $\\rho$ appear in a scatterplot:"
   ]
  },
  {
   "cell_type": "code",
   "execution_count": 4,
   "metadata": {},
   "outputs": [],
   "source": [
    "np.random.seed(100)\n",
    "\n",
    "rhos = [0.99, -.85, .6, .15]\n",
    "# Initialize results datafram\n",
    "results = pd.DataFrame({\"X\":[], \"Y\":[], \"rho\":[]})\n",
    "\n",
    "for rho in rhos:\n",
    "    X1 = np.random.uniform(0, 1, 50)\n",
    "    X2 = np.random.uniform(0, 1, 50)\n",
    "    Y = rho*X1 + ((1 - rho**2)**0.5)*X2\n",
    "    results = pd.concat([results,\\\n",
    "                  pd.DataFrame({\"X\":X1 - np.mean(X1), \"Y\": Y - np.mean(Y), \"rho\": rho})]\n",
    "             )"
   ]
  },
  {
   "cell_type": "code",
   "execution_count": 5,
   "metadata": {},
   "outputs": [
    {
     "data": {
      "text/plain": [
       "<seaborn.axisgrid.FacetGrid at 0x7fc393e11190>"
      ]
     },
     "execution_count": 5,
     "metadata": {},
     "output_type": "execute_result"
    },
    {
     "data": {
      "image/png": "[encoded data removed]",
      "text/plain": [
       "<Figure size 432x432 with 4 Axes>"
      ]
     },
     "metadata": {},
     "output_type": "display_data"
    }
   ],
   "source": [
    "g = sns.FacetGrid(results, col=\"rho\", col_wrap=2)\n",
    "g.map(sns.scatterplot, \"X\", \"Y\")"
   ]
  },
  {
   "cell_type": "markdown",
   "metadata": {
    "id": "UlaSLZcInPfY"
   },
   "source": [
    "Empirically, the sample correlation between $X$ and $Y$ from a dataset can be estimated as:\n",
    "\n",
    "$$\n",
    "r_{X,Y} = \\frac{1}{n}\\sum_{i=1}^{n}\\frac{X_i - \\bar{X}}{\\hat{\\sigma}_X}\\frac{Y_i - \\bar{Y}}{\\hat{\\sigma}_Y}\n",
    "$$\n",
    "\n",
    "Which might look a little painful, but lucky for us, Python has several functions we can use to compute the correlation coefficient. One of them is [corr()](https://pandas.pydata.org/docs/reference/api/pandas.DataFrame.corr.html) from the pandas library.\n",
    "\n",
    "**Exercise** : Going back to our original example, calculate the correlation coefficient for `hw1` scores and `final` scores using any Pandas function. "
   ]
  },
  {
   "cell_type": "markdown",
   "metadata": {
    "id": "_51dZ0h7nPfY"
   },
   "source": [
    "# Linear Regression\n",
    "\n",
    "Now, let's model this relationship between `hw1` and final scores using \n",
    "simple linear regression.\n",
    "Recall that simple linear regression is just a model with a\n",
    "single explanatory variable, where we are trying to find the \"best fitting\" line\n",
    "through the points to represent the relationship between the covariate (or the predictor) and the outcome (or the response)."
   ]
  },
  {
   "cell_type": "markdown",
   "metadata": {
    "id": "3zhAB4zAnPfY"
   },
   "source": [
    "## Review\n",
    "\n",
    "Under the framework of simple linear regression, we assume that the true \n",
    "underlying relationship between $X$ and $Y$ is\n",
    "\n",
    "$$Y = \\beta_0 + \\beta_1 X + \\varepsilon \\quad \\textrm{where} \\quad\n",
    "\\varepsilon \\sim N(0, \\sigma^2).$$\n",
    "\n",
    "Notice that in this model, the randomness is in $\\varepsilon$,\n",
    "which we are using to represent the *error term*, which captures\n",
    "unobserved factors and/or random variations that influence the value of $Y$.\n",
    "Due to this unobserved randomness, our linear model will not perfectly predict every possible data point.\n",
    "Instead, what we predict is the *average* value of $Y$ given the observed $X$.\n",
    "\n",
    "$$\n",
    "\\hat{Y} = \\hat{\\beta}_0 + \\hat{\\beta}_1 X\n",
    "$$\n",
    "\n",
    "Within the observed data, $\\hat{\\beta}_1$ indicates *on average* how much \n",
    "$Y$ increased when $X$ increased by 1 unit;\n",
    "$\\hat{\\beta}_0$ indicates the average value of $Y$ when $X = 0$. \n",
    "\n",
    "<!-- Hence, we can rewrite the model in terms of $\\varepsilon$\n",
    "\n",
    "$$\n",
    "\\varepsilon = \n",
    "Y - \\beta_0 + \\beta_1 X\n",
    "$$\n",
    "\n",
    "where $Y$ and $X$ are the observed data, and the regression coefficients \n",
    "$\\beta_0$ and $\\beta_1$ are the parameters we wish to estimate.\n",
    "We then estimate $\\varepsilon$ via the empirical counterpart of the error,\n",
    "the *residual*:\n",
    "\n",
    "$$\n",
    "\\hat{\\varepsilon} = Y - \\hat{\\beta}_0 + \\hat{\\beta}_1 X\n",
    "$$ -->\n"
   ]
  },
  {
   "cell_type": "markdown",
   "metadata": {
    "id": "6SX9rd0NnPfY"
   },
   "source": [
    "## Fitting a simple linear regression model\n",
    "\n",
    "Now, let's fit a simple linear model on our dataset:"
   ]
  },
  {
   "cell_type": "code",
   "execution_count": 6,
   "metadata": {
    "id": "cu_DH7C7nPfY"
   },
   "outputs": [
    {
     "name": "stdout",
     "output_type": "stream",
     "text": [
      "                            OLS Regression Results                            \n",
      "==============================================================================\n",
      "Dep. Variable:                  final   R-squared:                       0.355\n",
      "Model:                            OLS   Adj. R-squared:                  0.349\n",
      "Method:                 Least Squares   F-statistic:                     53.99\n",
      "Date:                Mon, 01 May 2023   Prob (F-statistic):           6.08e-11\n",
      "Time:                        08:01:29   Log-Likelihood:                -386.01\n",
      "No. Observations:                 100   AIC:                             776.0\n",
      "Df Residuals:                      98   BIC:                             781.2\n",
      "Df Model:                           1                                         \n",
      "Covariance Type:            nonrobust                                         \n",
      "==============================================================================\n",
      "                 coef    std err          t      P>|t|      [0.025      0.975]\n",
      "------------------------------------------------------------------------------\n",
      "const          9.1007      9.916      0.918      0.361     -10.577      28.779\n",
      "hw1            0.8211      0.112      7.348      0.000       0.599       1.043\n",
      "==============================================================================\n",
      "Omnibus:                        3.969   Durbin-Watson:                   2.192\n",
      "Prob(Omnibus):                  0.137   Jarque-Bera (JB):                3.601\n",
      "Skew:                          -0.464   Prob(JB):                        0.165\n",
      "Kurtosis:                       3.070   Cond. No.                         758.\n",
      "==============================================================================\n",
      "\n",
      "Notes:\n",
      "[1] Standard Errors assume that the covariance matrix of the errors is correctly specified.\n"
     ]
    },
    {
     "name": "stderr",
     "output_type": "stream",
     "text": [
      "/Users/samitakamath/opt/anaconda3/lib/python3.8/site-packages/statsmodels/tsa/tsatools.py:142: FutureWarning: In a future version of pandas all arguments of concat except for the argument 'objs' will be keyword-only.\n",
      "  x = pd.concat(x[::order], 1)\n"
     ]
    }
   ],
   "source": [
    "X = sm.add_constant(scores[\"hw1\"])\n",
    "y = scores[\"final\"]\n",
    "lm_0 = sm.OLS(y, X).fit()\n",
    "print(lm_0.summary())"
   ]
  },
  {
   "cell_type": "markdown",
   "metadata": {},
   "source": [
    "### Interpreting model output"
   ]
  },
  {
   "cell_type": "markdown",
   "metadata": {
    "id": "q7z0CPLNnPfY"
   },
   "source": [
    "*Slope coefficient* : In simple linear regression, the slope coefficient represents the change in the expected value of the dependent variable for a one-unit change in the independent variable. We observe that $\\hat{\\beta}_1 = 0.82$. This suggests that on average when a student's `hw1` score improved by 1 units, we expect the final exam score will improve by 0.82 points. \n",
    "\n",
    "*Constant/ Intercept* : In simple linear regression, the intercept term represents the expected value of the dependent variable when the independent variable is equal to zero. In other words, it represents the value of the dependent variable when none of the independent variables are present or have any effect. In our case, $\\hat{\\beta}_0 = 9.1$, which means that if a student scored 0 on `hw1`, on average we would expect their final score to be 9.1 points.\n",
    "\n",
    "The intercept in linear regression may not have a valid interpretation in certain situations for instance in cases where the independent variable can never take on a zero value."
   ]
  },
  {
   "cell_type": "markdown",
   "metadata": {},
   "source": [
    "**Exercise**: \n",
    "1. Predict the expected score on the final for a student who scored 92 on hw1.\n",
    "2. Recreate the scatter plot showing the relationship between hw1 and final scores, but now also with the fitted regression line. Does the regression line appear to fit the data well? "
   ]
  },
  {
   "cell_type": "markdown",
   "metadata": {
    "id": "aVPwNFFUnPfZ"
   },
   "source": [
    "# Goodness of Fit\n",
    "\n",
    "Now we have a working simple linear regression model. But we would still like to know how well our model fits the data overall.\n",
    "\n",
    "Recall when fitting our regression on a specific dataset, we aim to minimize the\n",
    "*sum of squared residuals* (or *sum of squared errors (SSE)*):\n",
    "\\begin{align}\n",
    "  \\sum_{i=1}^{n} \\hat{\\varepsilon}_i^ 2 \n",
    "    & = \\sum_{i=1}^{n} (Y_i - \\hat{Y}_i) ^ 2  \\\\\n",
    "    & = \\sum_{i=1}^{n} \\big(Y_i - (\\hat{\\beta}_0 + \\hat{\\beta}_1 X_i)\\big)^2.\n",
    "\\end{align}\n",
    "\n",
    "Then we are able to estimate the *root mean square error (RMSE)* or the\n",
    "*residual standard error* as \n",
    "\n",
    "$$\n",
    "\\hat{\\varepsilon}_i =\n",
    "\\sqrt{\\frac{1}{n}\\sum_{i=1}^{n} (Y_i - \\hat{Y}_i) ^ 2}.\n",
    "$$ \n",
    "\n",
    "The lower it is, the better---since the goal is to minimize the residuals.\n",
    "\n",
    "Another common metric for goodness of fit is $R^2$, defined as:\n",
    "\n",
    "$$\n",
    "R^2 = 1 - \\frac{\\sum_{i=1}^{n}(Y_i - \\hat{Y}_i)^2}\n",
    "               {\\sum_{i=1}^{n}(Y_i - \\bar{Y})^2}.\n",
    "$$\n",
    "\n",
    "This metric measures how good the full model (with all covariates) is\n",
    "compared to the reduced model (with an intercept only), or, how much of the\n",
    "variation in the dataset can be explained compared to the total variation.\n",
    "$R^2$ ranges from 0 to 1. In general, the higher $R^2$ is, the better the model\n",
    "fits the data."
   ]
  },
  {
   "cell_type": "markdown",
   "metadata": {
    "id": "LDXXRh-dnPfZ"
   },
   "source": [
    "$R^2$ can be found in the regression summary table."
   ]
  },
  {
   "cell_type": "code",
   "execution_count": 7,
   "metadata": {
    "id": "j7I0MGzfnPfZ"
   },
   "outputs": [
    {
     "name": "stdout",
     "output_type": "stream",
     "text": [
      "                            OLS Regression Results                            \n",
      "==============================================================================\n",
      "Dep. Variable:                  final   R-squared:                       0.355\n",
      "Model:                            OLS   Adj. R-squared:                  0.349\n",
      "Method:                 Least Squares   F-statistic:                     53.99\n",
      "Date:                Mon, 01 May 2023   Prob (F-statistic):           6.08e-11\n",
      "Time:                        08:01:29   Log-Likelihood:                -386.01\n",
      "No. Observations:                 100   AIC:                             776.0\n",
      "Df Residuals:                      98   BIC:                             781.2\n",
      "Df Model:                           1                                         \n",
      "Covariance Type:            nonrobust                                         \n",
      "==============================================================================\n",
      "                 coef    std err          t      P>|t|      [0.025      0.975]\n",
      "------------------------------------------------------------------------------\n",
      "const          9.1007      9.916      0.918      0.361     -10.577      28.779\n",
      "hw1            0.8211      0.112      7.348      0.000       0.599       1.043\n",
      "==============================================================================\n",
      "Omnibus:                        3.969   Durbin-Watson:                   2.192\n",
      "Prob(Omnibus):                  0.137   Jarque-Bera (JB):                3.601\n",
      "Skew:                          -0.464   Prob(JB):                        0.165\n",
      "Kurtosis:                       3.070   Cond. No.                         758.\n",
      "==============================================================================\n",
      "\n",
      "Notes:\n",
      "[1] Standard Errors assume that the covariance matrix of the errors is correctly specified.\n"
     ]
    }
   ],
   "source": [
    "print(lm_0.summary())"
   ]
  },
  {
   "cell_type": "code",
   "execution_count": 8,
   "metadata": {},
   "outputs": [
    {
     "data": {
      "text/plain": [
       "11.486021114447912"
      ]
     },
     "execution_count": 8,
     "metadata": {},
     "output_type": "execute_result"
    }
   ],
   "source": [
    "yhat = lm_0.predict(X)\n",
    "(np.mean((y - yhat)**2))**0.5"
   ]
  },
  {
   "cell_type": "markdown",
   "metadata": {
    "id": "b8nPeARWnPfZ"
   },
   "source": [
    "$R^2$ is represented by \"R-squared\" (i.e., 0.355) in the table above. **RMSE** can be calculated as shown above (i.e., 11.486).\n",
    "\n"
   ]
  },
  {
   "cell_type": "markdown",
   "metadata": {
    "id": "VnGnspaOnPfY"
   },
   "source": [
    "## Multiple regression\n",
    "\n"
   ]
  },
  {
   "cell_type": "markdown",
   "metadata": {},
   "source": [
    "Can we do better given that we have data for all five homeworks? Now, let's expand our regression to include other homework scores."
   ]
  },
  {
   "cell_type": "code",
   "execution_count": 9,
   "metadata": {},
   "outputs": [
    {
     "name": "stdout",
     "output_type": "stream",
     "text": [
      "                            OLS Regression Results                            \n",
      "==============================================================================\n",
      "Dep. Variable:                  final   R-squared:                       0.474\n",
      "Model:                            OLS   Adj. R-squared:                  0.446\n",
      "Method:                 Least Squares   F-statistic:                     16.92\n",
      "Date:                Mon, 01 May 2023   Prob (F-statistic):           6.74e-12\n",
      "Time:                        08:01:29   Log-Likelihood:                -375.86\n",
      "No. Observations:                 100   AIC:                             763.7\n",
      "Df Residuals:                      94   BIC:                             779.3\n",
      "Df Model:                           5                                         \n",
      "Covariance Type:            nonrobust                                         \n",
      "==============================================================================\n",
      "                 coef    std err          t      P>|t|      [0.025      0.975]\n",
      "------------------------------------------------------------------------------\n",
      "const         -1.7502     11.099     -0.158      0.875     -23.788      20.288\n",
      "hw1            0.3573      0.150      2.383      0.019       0.060       0.655\n",
      "hw2            0.2741      0.131      2.085      0.040       0.013       0.535\n",
      "hw3            0.2204      0.070      3.145      0.002       0.081       0.360\n",
      "hw4            0.0851      0.055      1.542      0.127      -0.025       0.195\n",
      "hw5            0.0671      0.057      1.174      0.244      -0.046       0.181\n",
      "==============================================================================\n",
      "Omnibus:                        2.021   Durbin-Watson:                   2.158\n",
      "Prob(Omnibus):                  0.364   Jarque-Bera (JB):                1.844\n",
      "Skew:                          -0.331   Prob(JB):                        0.398\n",
      "Kurtosis:                       2.940   Cond. No.                     1.90e+03\n",
      "==============================================================================\n",
      "\n",
      "Notes:\n",
      "[1] Standard Errors assume that the covariance matrix of the errors is correctly specified.\n",
      "[2] The condition number is large, 1.9e+03. This might indicate that there are\n",
      "strong multicollinearity or other numerical problems.\n"
     ]
    },
    {
     "name": "stderr",
     "output_type": "stream",
     "text": [
      "/Users/samitakamath/opt/anaconda3/lib/python3.8/site-packages/statsmodels/tsa/tsatools.py:142: FutureWarning: In a future version of pandas all arguments of concat except for the argument 'objs' will be keyword-only.\n",
      "  x = pd.concat(x[::order], 1)\n"
     ]
    }
   ],
   "source": [
    "X = sm.add_constant(scores[[\"hw1\", \"hw2\", \"hw3\", \"hw4\", \"hw5\"]])\n",
    "y = scores[\"final\"]\n",
    "lm_1 = sm.OLS(y, X).fit()\n",
    "print(lm_1.summary())"
   ]
  },
  {
   "cell_type": "code",
   "execution_count": 10,
   "metadata": {},
   "outputs": [
    {
     "data": {
      "text/plain": [
       "10.377363001806671"
      ]
     },
     "execution_count": 10,
     "metadata": {},
     "output_type": "execute_result"
    }
   ],
   "source": [
    "yhat = lm_1.predict(X)\n",
    "(np.mean((y - yhat)**2))**0.5"
   ]
  },
  {
   "cell_type": "markdown",
   "metadata": {
    "id": "0aZSO-EOnPfZ"
   },
   "source": [
    "From the summary table above, both $R^2$ (0.474) and **RMSE** (10.37) indicate that our multiple\n",
    "linear regression fits the data better than the simple linear regression."
   ]
  },
  {
   "cell_type": "markdown",
   "metadata": {},
   "source": [
    "### Interpreting model output"
   ]
  },
  {
   "cell_type": "markdown",
   "metadata": {},
   "source": [
    "*Coefficients* : In multiple linear regression, the slope coefficients represent the change in the expected value of the dependent variable for a one-unit change in the corresponding independent variable, **while holding all other independent variables constant**. \n",
    "\n",
    "We observe that $\\hat{\\beta}_1 = 0.36$. This suggests that on average when a student's `hw1` score improves by 1 unit, we expect the final exam score will improve by 0.36 points **holding other homework scores constant**. \n",
    "\n",
    "Note that the estimated value of $\\beta$ is different for each homework,\n",
    "suggesting different levels of association between homework\n",
    "scores and the final exam score.\n",
    "This could be due to a variety of reasons.  For example, it's possible that questions on the final exam focus more on the \n",
    "knowledge covered in the first homework. \n",
    "It's difficult to conclude.\n",
    "We would have to examine the data closely with more background knowledge \n",
    "regarding the data in order to answer this question.\n",
    "\n",
    "*Constant/ Intercept* : In multiple linear regression, the intercept term represents the expected value of the dependent variable when all independent variables are equal to zero. In other words, it represents the value of the dependent variable when none of the independent variables are present or have any effect. \n",
    "\n",
    "In our case, $\\hat{\\beta}_0 = -1.75$. However, we know that `final` scores cannot be negative. This is a great example of when an intercept does not have a valid interpretation. "
   ]
  },
  {
   "cell_type": "markdown",
   "metadata": {},
   "source": [
    "**Exercise**:\n",
    "1. Try fitting multiple linear regression models with k=2,3,4 predictors.   \n",
    "    b. Considering all the models we've fitted, which one do you think has the greatest predictive power?   \n",
    "    b. What does this tell us about which homework scores are most important in predicting final scores?   \n",
    "    c. Write down the interpretation of the coefficients of the best model.  \n",
    "2. Now we go back to our original question: when we have observed our first 3 homework scores as **100, 85, and 95,** can we predict our final exam scores?"
   ]
  }
 ],
 "metadata": {
  "colab": {
   "provenance": []
  },
  "kernelspec": {
   "display_name": "Python 3",
   "language": "python",
   "name": "python3"
  },
  "language_info": {
   "codemirror_mode": {
    "name": "ipython",
    "version": 3
   },
   "file_extension": ".py",
   "mimetype": "text/x-python",
   "name": "python",
   "nbconvert_exporter": "python",
   "pygments_lexer": "ipython3",
   "version": "3.8.8"
  }
 },
 "nbformat": 4,
 "nbformat_minor": 1
}

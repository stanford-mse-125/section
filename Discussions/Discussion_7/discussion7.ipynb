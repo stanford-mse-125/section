{
 "cells": [
  {
   "attachments": {},
   "cell_type": "markdown",
   "id": "1dbf2241-1dfc-4d6f-9de0-9949db4c0307",
   "metadata": {},
   "source": [
    "# Discussion 7️⃣: Model selection and the bias-variance tradeoff\n",
    "Josh Grossman"
   ]
  },
  {
   "attachments": {},
   "cell_type": "markdown",
   "id": "d3d7eeb0-9bdf-4d29-8c3e-fcd0b69bd7d3",
   "metadata": {},
   "source": [
    "<img src=\"img/graphs.jpg\" alt= \"xkcd_graphs\" width=\"900\" />"
   ]
  },
  {
   "attachments": {},
   "cell_type": "markdown",
   "id": "a1259f7f-8c60-4c39-b911-70881745a916",
   "metadata": {},
   "source": [
    "Welcome to the seventh discussion of MS&E 125!\n",
    "\n",
    "In this notebook, we'll discuss the tradeoff between models that do well on \n",
    "average across datasets and models that fit the data closely. \n",
    "Then, we'll walk through methods to measure model performance and \n",
    "make decisions about optimal model complexity. "
   ]
  },
  {
   "cell_type": "code",
   "execution_count": 1,
   "id": "ddcf0f8d-c481-403e-adc1-f3c359abb2d8",
   "metadata": {},
   "outputs": [],
   "source": [
    "import numpy as np\n",
    "import pandas as pd\n",
    "import matplotlib.pyplot as plt\n",
    "import seaborn as sns\n",
    "sns.set_theme()\n",
    "import statsmodels.formula.api as smf\n",
    "import statsmodels.api as sm"
   ]
  },
  {
   "attachments": {},
   "cell_type": "markdown",
   "id": "88a78542-da8f-46cc-9df1-060b86b96573",
   "metadata": {},
   "source": [
    "## 🧗 Introduction\n",
    "\n",
    "Suppose we have a model $y = f(x) + \\epsilon$, where $f$ is a model that predicts $y$ from $x$, and $\\epsilon$ is a noise term. For example, in simple linear regression, $f(x) = \\beta_0 + \\beta_1 x$. For a fitted model $\\hat{f}$, the mean squared error (in expectation) of the predictions $E[(y - \\hat{f}(x))^2]$ can be decomposed into three components: bias, variance, and noise:\n",
    "\n",
    "\\begin{align*}\n",
    "E[(y - \\hat{f}(x))^2] = E[f - \\hat{f}(x)]^2 + E[(\\hat{f}(x) - E[\\hat{f}(x)])^2] + \\sigma^2 = \\text{Bias}(\\hat{f}(x))^2 + \\text{Var}(\\hat{f}(x)) + \\sigma^2\n",
    "\\end{align*}\n",
    "\n",
    "If you are interested in the proof of this, see [here](https://en.wikipedia.org/wiki/Bias%E2%80%93variance_tradeoff#Bias%E2%80%93variance_decomposition_of_mean_squared_error)."
   ]
  },
  {
   "attachments": {},
   "cell_type": "markdown",
   "id": "209f4d77",
   "metadata": {},
   "source": [
    "Why should we care about this decomposition? Two key ideas:\n",
    "1. To reduce the MSE of a prediction model $\\hat{f}$, you have to decrease its bias and/or\n",
    "decrease its variance (notice that the noise $\\sigma^2$ is independent of $\\hat{f}$).\n",
    "2. For a fixed MSE andn noise level, reducing the bias of the predictions will increase the variance, and vice-versa."
   ]
  },
  {
   "attachments": {},
   "cell_type": "markdown",
   "id": "cc44fa31",
   "metadata": {},
   "source": [
    "How do we interpret bias and variance in the context of model fitting?\n",
    "\n",
    "- **Bias**: How closely does our model estimate $\\hat{f}$ fit the true model $f$ on average?\n",
    "\n",
    "- **Variance**: How much does our model estimate $\\hat{f}$ vary across datasets?\n",
    "\n",
    "A picture is worth a thousand words:\n",
    "\n",
    "<img src=\"img/bv_tradeoff.png\" alt= \"bias-variance-tradeoff\" width=\"400\" />\n",
    "\n",
    "Why is this true? Look at some of the models in the intro graphic. Take, for example, the \"connect the dots\" model. It will always fit any given data perfectly (i.e. bias of 0), but is extremely high in variance because it is very dependent on the exact data points in the available data. "
   ]
  },
  {
   "attachments": {},
   "cell_type": "markdown",
   "id": "4c610c4b",
   "metadata": {},
   "source": [
    "## 🏘️ Pricing homes in Regressionopolis\n",
    "\n",
    "The founder of the city of Regressionopolis generates home \n",
    "prices via the following linear model:\n",
    "\n",
    "$$ \\text{Price}_i = \\$100\\text{,}000 + \\$200 *\\text{Square footage} + \\epsilon~\\text{, where}~\\epsilon \\sim N(0,~\\$50\\text{,}000) $$\n",
    "\n",
    "The founder's construction company builds 50 homes with a variety of square footage.\n",
    "\n",
    "The founder then prices the 50 homes with the following Python code, which\n",
    "the founder does not share with anyone:\n"
   ]
  },
  {
   "cell_type": "code",
   "execution_count": 3,
   "id": "3e95fb8d",
   "metadata": {},
   "outputs": [
    {
     "data": {
      "text/html": [
       "<div>\n",
       "<style scoped>\n",
       "    .dataframe tbody tr th:only-of-type {\n",
       "        vertical-align: middle;\n",
       "    }\n",
       "\n",
       "    .dataframe tbody tr th {\n",
       "        vertical-align: top;\n",
       "    }\n",
       "\n",
       "    .dataframe thead th {\n",
       "        text-align: right;\n",
       "    }\n",
       "</style>\n",
       "<table border=\"1\" class=\"dataframe\">\n",
       "  <thead>\n",
       "    <tr style=\"text-align: right;\">\n",
       "      <th></th>\n",
       "      <th>sq_ft</th>\n",
       "      <th>price</th>\n",
       "    </tr>\n",
       "  </thead>\n",
       "  <tbody>\n",
       "    <tr>\n",
       "      <th>0</th>\n",
       "      <td>2153</td>\n",
       "      <td>592114.534036</td>\n",
       "    </tr>\n",
       "    <tr>\n",
       "      <th>1</th>\n",
       "      <td>1335</td>\n",
       "      <td>427118.992439</td>\n",
       "    </tr>\n",
       "    <tr>\n",
       "      <th>2</th>\n",
       "      <td>1263</td>\n",
       "      <td>333233.659130</td>\n",
       "    </tr>\n",
       "    <tr>\n",
       "      <th>3</th>\n",
       "      <td>2231</td>\n",
       "      <td>531084.862471</td>\n",
       "    </tr>\n",
       "    <tr>\n",
       "      <th>4</th>\n",
       "      <td>1533</td>\n",
       "      <td>354172.351747</td>\n",
       "    </tr>\n",
       "  </tbody>\n",
       "</table>\n",
       "</div>"
      ],
      "text/plain": [
       "   sq_ft          price\n",
       "0   2153  592114.534036\n",
       "1   1335  427118.992439\n",
       "2   1263  333233.659130\n",
       "3   2231  531084.862471\n",
       "4   1533  354172.351747"
      ]
     },
     "execution_count": 3,
     "metadata": {},
     "output_type": "execute_result"
    }
   ],
   "source": [
    "# set seed for reproducibility\n",
    "np.random.seed(0)\n",
    "\n",
    "# generate 1,000 homes with square footage between 500 and 5,000\n",
    "n_homes = 50\n",
    "square_feet = np.random.randint(500, 3000, n_homes)\n",
    "\n",
    "# generate prices for each home using a linear model\n",
    "prices = 100_000 + 200 * square_feet + np.random.normal(0, 50_000, n_homes)\n",
    "\n",
    "# store data in a DataFrame\n",
    "df = pd.DataFrame({'sq_ft': square_feet, 'price': prices})\n",
    "df.head()\n"
   ]
  },
  {
   "attachments": {},
   "cell_type": "markdown",
   "id": "90064a44",
   "metadata": {},
   "source": [
    "### 🏋️ Exercise\n",
    "\n",
    "As a prospective investor in the real estate market of Regressionopolis,\n",
    "you're interested in predicting the value of new homes as they are constructed.\n",
    "\n",
    "You have access to the 50 existing home prices, and you also know their square footage.\n",
    "\n",
    "You decide to fit three linear regression models to the home price data:\n",
    "\n",
    "\\begin{align}\n",
    "  \\text{Price}_i & = \\beta_0 + \\epsilon~\\text{, where}~\\epsilon \\sim N(0,\\sigma^2) \\\\\n",
    "  \\text{Price}_i & = \\beta_0 + \\beta_1 * \\text{Square footage} + \\epsilon~\\text{, where}~\\epsilon \\sim N(0,\\sigma^2) \\\\\n",
    "  \\text{Price}_i & = \\beta_0 + \\beta_1 * \\text{Square footage} + \\beta_2 * \\text{Square footage}^2 + \\epsilon~\\text{, where}~\\epsilon \\sim N(0,\\sigma^2) \\\\\n",
    "\\end{align}\n",
    "\n",
    "1. Using `statsmodels`, fit the three models to the home price data. \n",
    "How do the fitted coefficients of the models compare to the coefficients of the true data-generating process?"
   ]
  },
  {
   "cell_type": "code",
   "execution_count": 4,
   "id": "af607859",
   "metadata": {},
   "outputs": [
    {
     "name": "stdout",
     "output_type": "stream",
     "text": [
      "Intercept    456159.196071\n",
      "dtype: float64\n",
      "Intercept    51555.278877\n",
      "sq_ft          220.305308\n",
      "dtype: float64\n",
      "Intercept       -1013.034053\n",
      "sq_ft             289.847021\n",
      "I(sq_ft ** 2)      -0.019241\n",
      "dtype: float64\n"
     ]
    }
   ],
   "source": [
    "# Your code here!\n"
   ]
  },
  {
   "attachments": {},
   "cell_type": "markdown",
   "id": "ccba928e",
   "metadata": {},
   "source": [
    "2. Next, plot the raw data, with square footage on the X-axis and home price on the Y-axis. Plot the fitted models over the raw data."
   ]
  },
  {
   "cell_type": "code",
   "execution_count": 5,
   "id": "8683fb60",
   "metadata": {},
   "outputs": [
    {
     "data": {
      "text/plain": [
       "<AxesSubplot: xlabel='sq_ft', ylabel='price'>"
      ]
     },
     "execution_count": 5,
     "metadata": {},
     "output_type": "execute_result"
    },
    {
     "data": {
      "image/png": "[encoded data removed]",
      "text/plain": [
       "<Figure size 432x288 with 1 Axes>"
      ]
     },
     "metadata": {
      "needs_background": "light"
     },
     "output_type": "display_data"
    }
   ],
   "source": [
    "# Your code here!"
   ]
  },
  {
   "attachments": {},
   "cell_type": "markdown",
   "id": "d3a5ab30",
   "metadata": {},
   "source": [
    "3. Finally, using the home price data on which the models were trained, calculate the root mean squared error of each model. Which model has the lowest training RMSE?\n",
    "\n",
    "$$ \\text{RMSE} = \\sqrt {\\sum_{i=1}^n \\left(\\text{Price}_i - \\hat{\\text{Price}}_i\\right)^2 }$$"
   ]
  },
  {
   "cell_type": "code",
   "execution_count": 6,
   "id": "fdfe14d3",
   "metadata": {},
   "outputs": [
    {
     "name": "stdout",
     "output_type": "stream",
     "text": [
      "166712.6004326064\n",
      "43995.908792273396\n",
      "43377.87349415356\n"
     ]
    }
   ],
   "source": [
    "# Your code here!"
   ]
  },
  {
   "attachments": {},
   "cell_type": "markdown",
   "id": "f5a00cdd",
   "metadata": {},
   "source": [
    "## 🕵️ Assessing your home price models\n",
    "\n",
    "The founder of Regressionopolis decides to build and price 50 more homes. \n",
    "The founder builds and prices the new homes with the following Python code:"
   ]
  },
  {
   "cell_type": "code",
   "execution_count": 7,
   "id": "ccd7712a",
   "metadata": {},
   "outputs": [
    {
     "data": {
      "text/html": [
       "<div>\n",
       "<style scoped>\n",
       "    .dataframe tbody tr th:only-of-type {\n",
       "        vertical-align: middle;\n",
       "    }\n",
       "\n",
       "    .dataframe tbody tr th {\n",
       "        vertical-align: top;\n",
       "    }\n",
       "\n",
       "    .dataframe thead th {\n",
       "        text-align: right;\n",
       "    }\n",
       "</style>\n",
       "<table border=\"1\" class=\"dataframe\">\n",
       "  <thead>\n",
       "    <tr style=\"text-align: right;\">\n",
       "      <th></th>\n",
       "      <th>sq_ft</th>\n",
       "      <th>price</th>\n",
       "    </tr>\n",
       "  </thead>\n",
       "  <tbody>\n",
       "    <tr>\n",
       "      <th>0</th>\n",
       "      <td>2108</td>\n",
       "      <td>531357.452614</td>\n",
       "    </tr>\n",
       "    <tr>\n",
       "      <th>1</th>\n",
       "      <td>2847</td>\n",
       "      <td>745192.045638</td>\n",
       "    </tr>\n",
       "    <tr>\n",
       "      <th>2</th>\n",
       "      <td>1599</td>\n",
       "      <td>422746.942581</td>\n",
       "    </tr>\n",
       "    <tr>\n",
       "      <th>3</th>\n",
       "      <td>2908</td>\n",
       "      <td>711846.730124</td>\n",
       "    </tr>\n",
       "    <tr>\n",
       "      <th>4</th>\n",
       "      <td>1174</td>\n",
       "      <td>323788.720976</td>\n",
       "    </tr>\n",
       "  </tbody>\n",
       "</table>\n",
       "</div>"
      ],
      "text/plain": [
       "   sq_ft          price\n",
       "0   2108  531357.452614\n",
       "1   2847  745192.045638\n",
       "2   1599  422746.942581\n",
       "3   2908  711846.730124\n",
       "4   1174  323788.720976"
      ]
     },
     "execution_count": 7,
     "metadata": {},
     "output_type": "execute_result"
    }
   ],
   "source": [
    "# set seed for reproducibility\n",
    "# new seed this time so we don't get the same 50 prices as before\n",
    "np.random.seed(2)\n",
    "\n",
    "# function for generating home sq. ft. and price data\n",
    "def generate_data(n_homes):\n",
    "    # generate 1,000 homes with square footage between 500 and 5,000\n",
    "    square_feet = np.random.randint(500, 3000, n_homes)\n",
    "\n",
    "    # generate prices for each home using a linear model\n",
    "    # Note: Python ignores underscores in numbers, so we can use them to make\n",
    "    # large numbers more readable\n",
    "    prices = 100_000 + 200 * square_feet + np.random.normal(0, 50_000, n_homes)\n",
    "\n",
    "    # store data in a DataFrame\n",
    "    df = pd.DataFrame({'sq_ft': square_feet, 'price': prices})\n",
    "\n",
    "    return df\n",
    "\n",
    "new_df = generate_data(50)\n",
    "\n",
    "new_df.head()"
   ]
  },
  {
   "attachments": {},
   "cell_type": "markdown",
   "id": "c568888a",
   "metadata": {},
   "source": [
    "It's time to see which of our home price models predicted home prices\n",
    "most accurately on the new data!"
   ]
  },
  {
   "attachments": {},
   "cell_type": "markdown",
   "id": "7e0fc802",
   "metadata": {},
   "source": [
    "### 🏋️ Exercise\n",
    "\n",
    "1. What's the RMSE of your original three models on the new home price data? \n",
    "In other words, what's the RMSE on the testing data?"
   ]
  },
  {
   "cell_type": "code",
   "execution_count": 8,
   "id": "6ccd403e",
   "metadata": {},
   "outputs": [
    {
     "name": "stdout",
     "output_type": "stream",
     "text": [
      "160628.16303793548\n",
      "52614.45590380112\n",
      "55026.5728690818\n"
     ]
    }
   ],
   "source": [
    "# Your code here!"
   ]
  },
  {
   "attachments": {},
   "cell_type": "markdown",
   "id": "dd9517b1",
   "metadata": {},
   "source": [
    "2. Re-fit the three linear models on the combined data of 100 total homes and\n",
    "print the new coefficients.\n",
    "\n",
    "> It's common to improve existing models by incorporating new data."
   ]
  },
  {
   "cell_type": "code",
   "execution_count": 9,
   "id": "3e0770d7",
   "metadata": {},
   "outputs": [
    {
     "name": "stdout",
     "output_type": "stream",
     "text": [
      "Intercept    450235.36999\n",
      "dtype: float64\n",
      "Intercept    64982.310788\n",
      "sq_ft          213.810915\n",
      "dtype: float64\n",
      "Intercept        71039.591855\n",
      "sq_ft              205.626575\n",
      "I(sq_ft ** 2)        0.002298\n",
      "dtype: float64\n"
     ]
    }
   ],
   "source": [
    "# Your code here!"
   ]
  },
  {
   "attachments": {},
   "cell_type": "markdown",
   "id": "aea929a6",
   "metadata": {},
   "source": [
    "3. Plot the combined raw data and the three newly fitted models. "
   ]
  },
  {
   "cell_type": "code",
   "execution_count": 10,
   "id": "5810c432",
   "metadata": {},
   "outputs": [
    {
     "data": {
      "text/plain": [
       "<AxesSubplot: xlabel='sq_ft', ylabel='price'>"
      ]
     },
     "execution_count": 10,
     "metadata": {},
     "output_type": "execute_result"
    },
    {
     "data": {
      "image/png": "[encoded data removed]",
      "text/plain": [
       "<Figure size 432x288 with 1 Axes>"
      ]
     },
     "metadata": {
      "needs_background": "light"
     },
     "output_type": "display_data"
    }
   ],
   "source": [
    "# Your code here!"
   ]
  },
  {
   "attachments": {},
   "cell_type": "markdown",
   "id": "620dd41c",
   "metadata": {},
   "source": [
    "4. Which model changed the most with the new data included (i.e., which model has the highest variance)? Which one changed the least? \n",
    "\n",
    "> You may find it helpful to print the parameters of the original models and the new models for a side-by-side comparison."
   ]
  },
  {
   "cell_type": "code",
   "execution_count": 11,
   "id": "0d8c6f87",
   "metadata": {},
   "outputs": [
    {
     "name": "stdout",
     "output_type": "stream",
     "text": [
      "Intercept    456159.196071\n",
      "dtype: float64\n",
      "Intercept    450235.36999\n",
      "dtype: float64\n",
      "Intercept    51555.278877\n",
      "sq_ft          220.305308\n",
      "dtype: float64\n",
      "Intercept    64982.310788\n",
      "sq_ft          213.810915\n",
      "dtype: float64\n",
      "Intercept       -1013.034053\n",
      "sq_ft             289.847021\n",
      "I(sq_ft ** 2)      -0.019241\n",
      "dtype: float64\n",
      "Intercept        71039.591855\n",
      "sq_ft              205.626575\n",
      "I(sq_ft ** 2)        0.002298\n",
      "dtype: float64\n"
     ]
    }
   ],
   "source": [
    "# Your code here!"
   ]
  },
  {
   "attachments": {},
   "cell_type": "markdown",
   "id": "0f033029",
   "metadata": {},
   "source": [
    "## 🧪 Train, validate, test\n",
    "\n",
    "In the example above, we knew the data generating process (DGP). In real life, we don't know the DGP.\n",
    "\n",
    "If we don't know the DGP, how are we supposed to know which of our models will (most likely) perform best on the test data?"
   ]
  },
  {
   "attachments": {},
   "cell_type": "markdown",
   "id": "9a889b24",
   "metadata": {},
   "source": [
    "### The validation set\n",
    "\n",
    "By splitting our training data into two parts (training data and validation data), we can estimate how we our trained models will perform on unforeseen data (the test data). A visual:\n",
    "\n",
    "<img src=\"img/train-validate-test-split.png\" alt= \"xkcd_graphs\" width=\"900\" />\n",
    "\n",
    "Here's the basic idea:\n",
    "\n",
    "- The training set is used to fit as many models as you'd like.\n",
    "- The validation set is used to estimate how well those models will do on unforeseen data. We can validate as much as we like.\n",
    "- The test set is our one and only chance to see how well our model performs. It cannot be used in model construction or validation.\n",
    "\n",
    "Here are the steps to choosing a model:\n",
    "1. Randomly split our initial set of 50 homes into 30 training data points, and 20 validation data points.\n",
    "2. We will fit our three linear models on the 30 training data points, and then see how well they perform on the 20 validation points.\n",
    "3. After we find the model that performs best on the validation set, we re-train our chosen model on the full data, and use that as our one and only shot with the testing data."
   ]
  },
  {
   "cell_type": "code",
   "execution_count": 52,
   "id": "e68208ea",
   "metadata": {},
   "outputs": [
    {
     "name": "stdout",
     "output_type": "stream",
     "text": [
      "157825.13079089113\n",
      "41110.54122062717\n",
      "41735.954061833756\n"
     ]
    }
   ],
   "source": [
    "# split the original data of 50 homes (df) into 30 training homes and 20 validation homes.\n",
    "train_df = df.sample(30)\n",
    "val_df = df.drop(train_df.index)\n",
    "\n",
    "# train the three linear models on the training set\n",
    "train_model1 = smf.ols('price ~ 1', data=train_df).fit()\n",
    "train_model2 = smf.ols('price ~ 1 + sq_ft', data=train_df).fit()\n",
    "train_model3 = smf.ols('price ~ 1 + sq_ft + I(sq_ft**2)', data=train_df).fit()\n",
    "\n",
    "# calculate the validation set RMSE of the three models\n",
    "print(np.sqrt(np.mean((val_df.price - train_model1.predict(val_df))**2)))\n",
    "print(np.sqrt(np.mean((val_df.price - train_model2.predict(val_df))**2)))\n",
    "print(np.sqrt(np.mean((val_df.price - train_model3.predict(val_df))**2)))\n",
    "\n",
    "# If you re-run the code several times, the slope+intercept model often has \n",
    "# the lowest validation set RMSE, but not always.\n"
   ]
  },
  {
   "attachments": {},
   "cell_type": "markdown",
   "id": "eaec2cd2",
   "metadata": {},
   "source": [
    "## "
   ]
  },
  {
   "attachments": {},
   "cell_type": "markdown",
   "id": "7e2ce788",
   "metadata": {},
   "source": [
    "### 💵 Getting more bang for your buck with k-fold cross validation\n",
    "\n",
    "When estimating the validation set RMSE, we\n",
    "were only able to use models trained on 30 data points. \n",
    "\n",
    "If we have access to 50 data points, we might as well leverage knowledge\n",
    "from all 50 data points! \n",
    "\n",
    "Furthermore, it would be nice if our results didn't suffer from random variation\n",
    "induced from sampling 30 random points. \n",
    "\n",
    "Enter cross validation:\n",
    "\n",
    "<img src=\"img/cross-validation.png\" alt= \"xkcd_graphs\" width=\"900\" />\n",
    "\n",
    "The basic idea of K-fold cross validation:\n",
    "1. Randomly split your training data into k folds, or splits. In the picture above, k=5.\n",
    "2. Train your model on all folds except the 1st fold. \n",
    "3. Calculate the RMSE of the model using the 1st fold as the validation set.\n",
    "4. Repeat steps 2 and 3 using the 2nd, 3rd, 4th, and 5th folds as the held-out fold.\n",
    "5. Average the RMSE across the five held-out folds to get a more stable estimate of the test RMSE."
   ]
  },
  {
   "cell_type": "code",
   "execution_count": 57,
   "id": "d2d46e49",
   "metadata": {},
   "outputs": [
    {
     "data": {
      "text/plain": [
       "intercept only     171559.223366\n",
       "intercept+slope     45693.492039\n",
       "quadratic           45771.944076\n",
       "dtype: float64"
      ]
     },
     "execution_count": 57,
     "metadata": {},
     "output_type": "execute_result"
    }
   ],
   "source": [
    "# Split the original data (df) into three folds after shuffling the data.\n",
    "# We use three folds here since the data is small.\n",
    "folds = np.array_split(df.sample(n_homes), 3)\n",
    "\n",
    "# For each held out fold, train the three linear models on the remaining\n",
    "# four folds, calculate the validation RMSE on the held out fold,\n",
    "# and store the results in a list.\n",
    "rmse_list = []\n",
    "for i in range(3):\n",
    "    # get the held out fold\n",
    "    val_df = folds[i]\n",
    "    \n",
    "    # get the other four folds\n",
    "    train_df = pd.concat(folds[:i] + folds[i+1:])\n",
    "    \n",
    "    # train the three linear models on the training set\n",
    "    train_model1 = smf.ols('price ~ 1', data=train_df).fit()\n",
    "    train_model2 = smf.ols('price ~ sq_ft', data=train_df).fit()\n",
    "    train_model3 = smf.ols('price ~ sq_ft + I(sq_ft**2)', data=train_df).fit()\n",
    "    \n",
    "    # calculate the validation set RMSE of the three models\n",
    "    rmse1 = np.sqrt(np.mean((val_df.price - train_model1.predict(val_df))**2))\n",
    "    rmse2 = np.sqrt(np.mean((val_df.price - train_model2.predict(val_df))**2))\n",
    "    rmse3 = np.sqrt(np.mean((val_df.price - train_model3.predict(val_df))**2))\n",
    "    \n",
    "    # store the results in a list\n",
    "    rmse_list.append([rmse1, rmse2, rmse3])\n",
    "\n",
    "# Finally, average the model performance across the five folds.\n",
    "# If you repeatedly run this code, you'll find that the slope+intercept model\n",
    "# tends to perform best.\n",
    "rmse_df = pd.DataFrame(rmse_list, columns=['intercept only', 'intercept+slope', 'quadratic'])\n",
    "rmse_df.mean()"
   ]
  }
 ],
 "metadata": {
  "kernelspec": {
   "display_name": "Python 3 (ipykernel)",
   "language": "python",
   "name": "python3"
  },
  "language_info": {
   "codemirror_mode": {
    "name": "ipython",
    "version": 3
   },
   "file_extension": ".py",
   "mimetype": "text/x-python",
   "name": "python",
   "nbconvert_exporter": "python",
   "pygments_lexer": "ipython3",
   "version": "3.11.2"
  }
 },
 "nbformat": 4,
 "nbformat_minor": 5
}
